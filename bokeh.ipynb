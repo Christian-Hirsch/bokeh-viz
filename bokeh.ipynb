{
 "cells": [
  {
   "cell_type": "markdown",
   "metadata": {},
   "source": [
    "# Deploying interactive Bokeh visualizations"
   ]
  },
  {
   "cell_type": "markdown",
   "metadata": {},
   "source": [
    "[Bokeh](https://bokeh.pydata.org/en/latest/) is powerful library for creating plots and charts in python. You will probably already have played with [matplotlib](https://matplotlib.org/) or [seaborn](https://seaborn.pydata.org/), but Bokeh makes it ridiculously easy to have the user interact with your charts."
   ]
  },
  {
   "cell_type": "markdown",
   "metadata": {},
   "source": [
    "In this notebook, we provide a step-by-step guide on how to create a line plot with bokeh that can be deployed as web app with ease. This is a special extended version of a [tool](https://github.com/laurafroelich/swung_viz_log/blob/master/code/holoMagic.py) that Duncan, Jo, Laura, Sean and I developed during the [2018 Subsurface Hackathon](https://agilescientific.com/events/subsurface2018) in Copenhagen."
   ]
  },
  {
   "cell_type": "markdown",
   "metadata": {},
   "source": [
    "The code is modified from the wonderful [stocks](https://github.com/bokeh/bokeh/tree/master/examples/app/stocks) and [weather](https://github.com/bokeh/bokeh/tree/master/examples/app/weather) examples in the bokeh gallery."
   ]
  },
  {
   "cell_type": "markdown",
   "metadata": {},
   "source": [
    "## Drilling down the rabbit hole"
   ]
  },
  {
   "cell_type": "markdown",
   "metadata": {},
   "source": [
    "The context for our example comes from visualising log data in oil well explorations. Our final goal is to set up the following visualization. Don't worry, we'll go through the single parts in a second."
   ]
  },
  {
   "cell_type": "markdown",
   "metadata": {},
   "source": [
    "<img src='./bokeh.png'></img>"
   ]
  },
  {
   "cell_type": "markdown",
   "metadata": {},
   "source": [
    "What is shown on the left is a plot of a quantity measured by a drilling head as it moves down into different formations. The quantity being measured is typically being referred to as *Curve*. Here, we show a curve for a measure of radioactivity, but in the drop-down menu the user can choose a different one."
   ]
  },
  {
   "cell_type": "markdown",
   "metadata": {},
   "source": [
    "The *group* refers to a subsample of the depth-axis with specific geological properties. Hence, selecting a group corresponds roughly to subsetting the data."
   ]
  },
  {
   "cell_type": "markdown",
   "metadata": {},
   "source": [
    "Finally, the *Well* specifies which of possibly several exploration sites should be investigated."
   ]
  },
  {
   "cell_type": "markdown",
   "metadata": {},
   "source": [
    "Next to the plot we show basic associated summary statistics, such as maximum, minimum, mean and standard deviation."
   ]
  },
   {
   "cell_type": "markdown",
   "metadata": {},
   "source": [
    "The complete code is in the python scripts [holoMagic.py](./holoMagic.py) and [holoHelper.py](./holoHelper.py)."
   ]
  },
  {
   "cell_type": "markdown",
   "metadata": {},
   "source": [
    "## Bokeh visualizations"
   ]
  },
  {
   "cell_type": "markdown",
   "metadata": {},
   "source": [
    "First, we import pandas, numpy and several bokeh objects. We also need helper functions that will be explained later if you want to know all the details."
   ]
  },
  {
   "cell_type": "code",
   "execution_count": null,
   "metadata": {},
   "outputs": [],
   "source": [
    "import pandas as pd\n",
    "import numpy as np\n",
    "\n",
    "from bokeh.io import curdoc\n",
    "from bokeh.layouts import row, column\n",
    "from bokeh.models import ColumnDataSource, Select, PreText\n",
    "\n",
    "from holoHelper import get_dataset, make_plot, select_top_base, update_text, update_plot"
   ]
  },
  {
   "cell_type": "markdown",
   "metadata": {},
   "source": [
    "Now, we specify where to find the data and which statistics to look at. These statistics are displayed in ``PreText`` bokeh objects."
   ]
  },
  {
   "cell_type": "code",
   "execution_count": null,
   "metadata": {},
   "outputs": [],
   "source": [
    "#file names and considered stats\n",
    "DATA_PATH = \"../data/EAGE2018/\"\n",
    "wld_fname = \"{}well_log_data.txt\".format(DATA_PATH)\n",
    "\n",
    "###Set up the statistics text fields\n",
    "STAT_NAMES = ['Max ', 'Min ', 'Mean ', 'Std ']\n",
    "stats = [PreText(text=prop, width=500, height=1) for prop in STAT_NAMES]"
   ]
  },
  {
   "cell_type": "markdown",
   "metadata": {},
   "source": [
    "Besides the text fields, we also need the drop down menus. For the purpose of this tutorial, we hardwire them into the code."
   ]
  },
  {
   "cell_type": "code",
   "execution_count": null,
   "metadata": {},
   "outputs": [],
   "source": [
    "#Titles and initial valuesfor drop-downs\n",
    "TITLES = ['Curve', 'Group', 'Well']\n",
    "INITS = ['Gamma', 'AA', 'A']\n",
    "\n",
    "#Options to choose from\n",
    "CURVE_OPTIONS = ['Gamma', 'Res']\n",
    "GROUP_OPTIONS = ['HH', 'GG', 'FF', 'EE', 'DD', 'CC', 'BB', 'AA', 'All']\n",
    "WELL_OPTIONS = ['X-27', 'I_A', 'D', 'B', 'B_AT2', 'B_A', 'AA', 'A']\n",
    "OPTIONS = [CURVE_OPTIONS, GROUP_OPTIONS, WELL_OPTIONS]\n",
    "\n",
    "#Define drop-down menus\n",
    "selects = [Select(value=init, title=title, options= option) for init, title, option in zip(INITS, TITLES, OPTIONS)]"
   ]
  },
  {
   "cell_type": "markdown",
   "metadata": {},
   "source": [
    "When the user makes a selection in the drop-down menu, this should correspond to a change in the plot and the statistics. Therefore, we attach the function `update_plot_text` to the `on_change` event of the drop-down menus."
   ]
  },
  {
   "cell_type": "code",
   "execution_count": null,
   "metadata": {},
   "outputs": [],
   "source": [
    "def update_plot_text(attrname, old, new):\n",
    "    curve, group, well = [select.value for select in selects]\n",
    "\n",
    "    top,base = select_top_base(group, well)\n",
    "\n",
    "    update_text(top, base, curve, well, stats)\n",
    "    update_plot(top, base, curve, well, source)\n",
    "    \n",
    "for select in selects:\n",
    "    select.on_change('value', update_plot_text)"
   ]
  },
  {
   "cell_type": "markdown",
   "metadata": {},
   "source": [
    "Now, all that is left to be done is to construct the plot and everything to the root of the current document. There you go!"
   ]
  },
  {
   "cell_type": "code",
   "execution_count": null,
   "metadata": {},
   "outputs": [],
   "source": [
    "source = get_dataset(INITS[0], INITS[2])\n",
    "plot = make_plot(source, INITS[0])\n",
    "controls = column(*selects, *stats)\n",
    "\n",
    "curdoc().add_root(row(plot, controls))\n",
    "curdoc().title = \"Log quality visualisation\""
   ]
  },
  {
   "cell_type": "markdown",
   "metadata": {},
   "source": [
    "If you put the code into ``log_quality.py``, you can deploy the bokeh server via ``bokeh serve --show log_quality.py``. The [bokeh docs](https://bokeh.pydata.org/en/latest/docs/user_guide/server.html) give you all the further details you might be interested."
   ]
  },
  {
   "cell_type": "markdown",
   "metadata": {},
   "source": [
    "## Helper functions"
   ]
  },
  {
   "cell_type": "markdown",
   "metadata": {},
   "source": [
    "So you are still passionate to learn more about bokeh? Then, let's look at the helper functions in detail. We import the usual suspects."
   ]
  },
  {
   "cell_type": "code",
   "execution_count": null,
   "metadata": {},
   "outputs": [],
   "source": [
    "from bokeh.models import ColumnDataSource\n",
    "from bokeh.plotting import figure\n",
    "from bokeh.palettes import Blues4\n",
    "\n",
    "import pandas as pd\n",
    "import numpy as np\n",
    "import json"
   ]
  },
  {
   "cell_type": "markdown",
   "metadata": {},
   "source": [
    "We also specify the file path and the statistics to be considered."
   ]
  },
  {
   "cell_type": "code",
   "execution_count": null,
   "metadata": {},
   "outputs": [],
   "source": [
    "#File path\n",
    "DATA_PATH = \"../data/EAGE2018/\"\n",
    "wld_fname = \"{}well_log_data.txt\".format(DATA_PATH)\n",
    "group_fname = \"{}EAGE_Hackathon_2018_Well_\".format(DATA_PATH)\n",
    "\n",
    "#considered statistics\n",
    "STAT_NAMES = ['Max ', 'Min ', 'Mean ', 'Std ']\n",
    "\n",
    "#Fix the maximum possible depth\n",
    "MAX_DEPTH=5000"
   ]
  },
  {
   "cell_type": "markdown",
   "metadata": {},
   "source": [
    "We convert the json files into a pandas dataframe."
   ]
  },
  {
   "cell_type": "code",
   "execution_count": null,
   "metadata": {},
   "outputs": [],
   "source": [
    "#convert json data into pandas\n",
    "with open(wld_fname, 'r') as f:\n",
    "    j_data = json.load(f)\n",
    "\n",
    "for i, item in enumerate(j_data):\n",
    "    if i == 0:\n",
    "        p_data = pd.DataFrame(item)\n",
    "    else:\n",
    "        p_data = p_data.append(pd.DataFrame(item))"
   ]
  },
  {
   "cell_type": "markdown",
   "metadata": {},
   "source": [
    "The first helper function selects the relevant pieces of the large pandas dataframe and puts them into a bokeh `Source` object."
   ]
  },
  {
   "cell_type": "code",
   "execution_count": null,
   "metadata": {},
   "outputs": [],
   "source": [
    "def get_dataset(curve, well, top=0, base=MAX_DEPTH):\n",
    "    \"\"\"Prepare dataset for plotting\n",
    "\n",
    "    Select curve data from a well in a group bounded by a specified top and base\n",
    "    # Arguments\n",
    "        curve: curve to be considered\n",
    "        well: well to be considered\n",
    "        top: top coordinates of the group to be considered\n",
    "        base: base coordinates of the group to be considered\n",
    "    # Returns\n",
    "        A bokeh Source object containing the pandas data\n",
    "    \"\"\"\n",
    "    src = p_data[(p_data['Depth']>top) & (p_data['Depth']<base)]\n",
    "    cur_df = (src[src['Well'] == well])[['Depth', curve]]\n",
    "    cur_df=cur_df.set_index('Depth').copy()\n",
    "    cur_df.columns = ['val']\n",
    "\n",
    "    #reverse depth direction for drawing\n",
    "    cur_df=cur_df.sort_index()\n",
    "    cur_df.index = -cur_df.index\n",
    "\n",
    "    return ColumnDataSource(data=cur_df)"
   ]
  },
  {
   "cell_type": "markdown",
   "metadata": {},
   "source": [
    "Once we have a bokeh `Source` object, we push it through the plotting pipeline."
   ]
  },
  {
   "cell_type": "code",
   "execution_count": null,
   "metadata": {},
   "outputs": [],
   "source": [
    "def make_plot(current, curve, plot_width=800, plot_height=1000, alpha=.3, font_style=\"bold\"):\n",
    "    \"\"\"Show plot of current data \n",
    "\n",
    "    Compute plot of current data \n",
    "    # Arguments\n",
    "        current: bokeh Source object containing the current data\n",
    "        curve: curve to be plotted\n",
    "        plot_width: width of plot\n",
    "        plot_heigth: height of plot\n",
    "        alpha: alpha-value of plot\n",
    "        font_style: font style for plot\n",
    "    # Returns\n",
    "        A plot object for the current data\n",
    "    \"\"\"\n",
    "\n",
    "    #plot the figure\n",
    "    plot = figure( plot_width=plot_width, plot_height=plot_height, tools=\"\", toolbar_location=None)\n",
    "    plot.line(y='Depth', x='val', source=current, color=Blues4[1])\n",
    "\n",
    "    #set plot meta_data\n",
    "    plot.yaxis.axis_label = \"Depth\"\n",
    "    plot.axis.axis_label_text_font_style = font_style\n",
    "    plot.grid.grid_line_alpha = alpha\n",
    "\n",
    "    return plot"
   ]
  },
  {
   "cell_type": "markdown",
   "metadata": {},
   "source": [
    "The groups are given as names, so that we need to read out their starting and and depth from a database."
   ]
  },
  {
   "cell_type": "code",
   "execution_count": null,
   "metadata": {},
   "outputs": [],
   "source": [
    "def select_top_base(group, well):\n",
    "    \"\"\"Extract top and base coordinates\n",
    "    \n",
    "    Extract top and base coordinates for a specified group and well\n",
    "    # Arguments\n",
    "        group: group for which top and base coords are to be queried\n",
    "        well: well to be considered\n",
    "    # Returns\n",
    "        A pair consisting of the top and base coordinate of the specified group\n",
    "    \"\"\"\n",
    "\n",
    "    group_file = \"{}EAGE_Hackathon_2018_{}{}{}\".format(DATA_PATH,\"Well_\", well,\".csv\")\n",
    "    group_df = pd.read_csv(group_file)\n",
    "\n",
    "    base = MAX_DEPTH\n",
    "    top = 0\n",
    "    if group!='All':\n",
    "         base_top = group_df[(group_df['name'] == group) & (group_df['Surface'] == 'group')]\n",
    "         top_sel = base_top[base_top['Obs#'] == 'Top']['MD']\n",
    "         base_sel = base_top[base_top['Obs#'] == 'Base']['MD']\n",
    "         if len(top_sel)>0:\n",
    "             top = top_sel.values[0]\n",
    "         if len(base_sel)>0:\n",
    "            base = base_sel.values[0]\n",
    "    return top, base"
   ]
  },
  {
   "cell_type": "markdown",
   "metadata": {},
   "source": [
    "Updating the plot is refreshingly simple as we only need to update the attached source."
   ]
  },
  {
   "cell_type": "code",
   "execution_count": null,
   "metadata": {},
   "outputs": [],
   "source": [
    "def update_plot(curve, well, top, base, source):\n",
    "    \"\"\"Updates the plot\n",
    "\n",
    "    Updates the plotted curve after user interaction\n",
    "    # Arguments\n",
    "        curve: curve to be considered\n",
    "        well: well to be considered\n",
    "        top: top coordinates of the group to be considered\n",
    "        base: base coordinates of the group to be considered\n",
    "        source: source object to be modified\n",
    "    \"\"\"\n",
    "    new_source = get_dataset(curve, well, top, base)\n",
    "    source.data.update(new_source.data)"
   ]
  },
  {
   "cell_type": "markdown",
   "metadata": {},
   "source": [
    "To update the text, we construct a new pandas dataframe and then recompute the statistics."
   ]
  },
  {
   "cell_type": "code",
   "execution_count": null,
   "metadata": {},
   "outputs": [],
   "source": [
    "def update_text(curve, well, top, base, stats):\n",
    "    \"\"\"Updates the plot\n",
    "\n",
    "    Updates the displayed statistics after user interaction\n",
    "    # Arguments\n",
    "        curve: curve to be considered\n",
    "        well: well to be considered\n",
    "        top: top coordinates of the group to be considered\n",
    "        base: base coordinates of the group to be considered\n",
    "        stats: text fields to be modified\n",
    "    \"\"\"\n",
    "    src = p_data[(p_data['Depth']>top) & (p_data['Depth']<base)]\n",
    "    df = src[src['Well'] == well]\n",
    "    df = df[curve]\n",
    "\n",
    "    stat_vals = [df.max(), df.min(), df.mean(), df.std()]\n",
    "    for stat, name, stat_val in zip(stats, STAT_NAMES, stat_vals):\n",
    "        stat.text = \"{0}{1:.2f}\".format(name, stat_val)                                                          "
   ]
  }
 ],
 "metadata": {
  "kernelspec": {
   "display_name": "Python 3",
   "language": "python",
   "name": "python3"
  },
  "language_info": {
   "codemirror_mode": {
    "name": "ipython",
    "version": 3
   },
   "file_extension": ".py",
   "mimetype": "text/x-python",
   "name": "python",
   "nbconvert_exporter": "python",
   "pygments_lexer": "ipython3",
   "version": "3.6.5"
  }
 },
 "nbformat": 4,
 "nbformat_minor": 2
}
